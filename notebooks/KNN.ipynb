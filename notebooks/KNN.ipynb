{
 "cells": [
  {
   "cell_type": "code",
   "execution_count": null,
   "id": "f42ce856",
   "metadata": {},
   "outputs": [],
   "source": [
    "import numpy as np"
   ]
  },
  {
   "cell_type": "code",
   "execution_count": 2,
   "id": "0b5ffcb5",
   "metadata": {},
   "outputs": [],
   "source": [
    "class KNN:\n",
    "    def __init__(self, data, n = 5):\n",
    "        self.data = data\n",
    "        self.n = n\n",
    "\n",
    "    def predict(point):\n",
    "        point = np.array(point)\n",
    "        distances = np.linalg.norm(self.data - point, axis=1)\n",
    "        nearest_indices = np.argsort(distances)[:self.n]\n",
    "        neighbors = self.data[nearest_indices]\n",
    "        neighbor_distances = distances[nearest_indices]\n",
    "\n",
    "        return list(zip(neighbors, neighbor_distances))"
   ]
  },
  {
   "cell_type": "code",
   "execution_count": null,
   "id": "6e883caf",
   "metadata": {},
   "outputs": [],
   "source": []
  }
 ],
 "metadata": {
  "kernelspec": {
   "display_name": "machine-learning",
   "language": "python",
   "name": "python3"
  },
  "language_info": {
   "codemirror_mode": {
    "name": "ipython",
    "version": 3
   },
   "file_extension": ".py",
   "mimetype": "text/x-python",
   "name": "python",
   "nbconvert_exporter": "python",
   "pygments_lexer": "ipython3",
   "version": "undefined.undefined.undefined"
  }
 },
 "nbformat": 4,
 "nbformat_minor": 5
}
