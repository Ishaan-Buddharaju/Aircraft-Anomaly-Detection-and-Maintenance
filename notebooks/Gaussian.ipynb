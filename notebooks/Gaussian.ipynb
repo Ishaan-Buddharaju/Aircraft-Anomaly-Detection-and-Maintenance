{
 "cells": [
  {
   "cell_type": "code",
   "execution_count": 1,
   "id": "9c531269",
   "metadata": {},
   "outputs": [],
   "source": [
    "import numpy as np"
   ]
  },
  {
   "cell_type": "code",
   "execution_count": 4,
   "id": "96d7c988",
   "metadata": {},
   "outputs": [],
   "source": [
    "class Gaussian:\n",
    "\n",
    "    def __init__(self, X_train):\n",
    "        self.mu, self.var = estimate_gaussian(X_train) \n",
    "\n",
    "    def estimate_gaussian(X_train: np.ndarray):\n",
    "        m, n = X_train.shape\n",
    "\n",
    "        mu = np.mean(X_train)\n",
    "        var = np.sum( (X_train - mu) ** 2, axis=0 ) / m    \n",
    "        \n",
    "        return mu, var\n",
    "    \n",
    "    def compute_probabilities(data: np.ndarray): \n",
    "        p = (1 / (((2 * np.pi * self.var) ** 0.5))) * np.exp((-1 * (data - self.mu) ** 0.5) / (2 * (self.var)))\n",
    "        \n",
    "        return p \n",
    "\n",
    "    def select_threshold(y_val, p_val): \n",
    "\n",
    "        best_epsilon = 0\n",
    "        best_F1 = 0\n",
    "        F1 = 0\n",
    "        \n",
    "        step_size = (max(p_val) - min(p_val)) / 1000\n",
    "        \n",
    "        for epsilon in np.arange(min(p_val), max(p_val), step_size):\n",
    "        \n",
    "            ### START CODE HERE ### \n",
    "            predictions = (p_val < epsilon).astype(int)\n",
    "            \n",
    "            tp = np.sum((y_val & predictions) == 1)\n",
    "            fp = np.sum((y_val == 0) & (predictions == 1))\n",
    "            fn = np.sum((y_val == 1) & (predictions == 0))\n",
    "            \n",
    "            prec = tp / (tp + fp)\n",
    "            rec = tp / (tp + fn)\n",
    "            \n",
    "            F1 = (2 * prec * rec) / (prec + rec)\n",
    "            ### END CODE HERE ### \n",
    "            \n",
    "            if F1 > best_F1:\n",
    "                best_F1 = F1\n",
    "                best_epsilon = epsilon\n",
    "            \n",
    "        return best_epsilon, best_F1 \n"
   ]
  }
 ],
 "metadata": {
  "kernelspec": {
   "display_name": "machine-learning",
   "language": "python",
   "name": "python3"
  },
  "language_info": {
   "codemirror_mode": {
    "name": "ipython",
    "version": 3
   },
   "file_extension": ".py",
   "mimetype": "text/x-python",
   "name": "python",
   "nbconvert_exporter": "python",
   "pygments_lexer": "ipython3",
   "version": "3.13.5"
  }
 },
 "nbformat": 4,
 "nbformat_minor": 5
}
